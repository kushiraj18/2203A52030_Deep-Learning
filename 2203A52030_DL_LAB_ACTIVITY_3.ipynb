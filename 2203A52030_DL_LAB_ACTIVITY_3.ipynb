{
  "nbformat": 4,
  "nbformat_minor": 0,
  "metadata": {
    "colab": {
      "provenance": [],
      "authorship_tag": "ABX9TyPbvhbpoRSmq+Wzkew/Mt4O",
      "include_colab_link": true
    },
    "kernelspec": {
      "name": "python3",
      "display_name": "Python 3"
    },
    "language_info": {
      "name": "python"
    }
  },
  "cells": [
    {
      "cell_type": "markdown",
      "metadata": {
        "id": "view-in-github",
        "colab_type": "text"
      },
      "source": [
        "<a href=\"https://colab.research.google.com/github/kushiraj18/2203A52030_Deep-Learning/blob/main/2203A52030_DL_LAB_ACTIVITY_3.ipynb\" target=\"_parent\"><img src=\"https://colab.research.google.com/assets/colab-badge.svg\" alt=\"Open In Colab\"/></a>"
      ]
    },
    {
      "cell_type": "markdown",
      "source": [
        "**1.CODE FOR THE FIRST QUESTION WITHOUT LIBRARIES**"
      ],
      "metadata": {
        "id": "y4PrctZM5mJP"
      }
    },
    {
      "cell_type": "code",
      "execution_count": 1,
      "metadata": {
        "colab": {
          "base_uri": "https://localhost:8080/"
        },
        "id": "AxcgK6ef24PS",
        "outputId": "7ed54690-bb5d-4514-bdf7-f06a98312e58"
      },
      "outputs": [
        {
          "output_type": "stream",
          "name": "stdout",
          "text": [
            "Minimum value of f(x) is approximately 10.000000000802812 at x = 1.63586104206045e-05 after 165 iterations.\n"
          ]
        }
      ],
      "source": [
        "def f(x):\n",
        "    return 5 * x**4 + 3 * x**2 + 10\n",
        "def f_prime(x):\n",
        "    return 20 * x**3 + 6 * x\n",
        "def gradient_descent_without_libs(initial_x, learning_rate, tolerance, max_iterations):\n",
        "    x = initial_x\n",
        "    iteration = 0\n",
        "    while iteration < max_iterations:\n",
        "        grad = f_prime(x)\n",
        "        new_x = x - learning_rate * grad\n",
        "        if abs(new_x - x) < tolerance:\n",
        "            break\n",
        "        x = new_x\n",
        "        iteration += 1\n",
        "    return x, f(x), iteration\n",
        "initial_x = 1.0\n",
        "learning_rate = 0.01\n",
        "tolerance = 1e-6\n",
        "max_iterations = 10000\n",
        "min_x, min_f, iterations = gradient_descent_without_libs(initial_x, learning_rate, tolerance, max_iterations)\n",
        "print(f\"Minimum value of f(x) is approximately {min_f} at x = {min_x} after {iterations} iterations.\")"
      ]
    },
    {
      "cell_type": "markdown",
      "source": [
        "**1.CODE FOR THE FIRST QUESTION WITH LIBRARIES**"
      ],
      "metadata": {
        "id": "K8r2ZdUS6AJn"
      }
    },
    {
      "cell_type": "code",
      "source": [
        "import numpy as np\n",
        "def f(x):\n",
        "    return 5 * x**4 + 3 * x**2 + 10\n",
        "def f_prime(x):\n",
        "    return 20 * x**3 + 6 * x\n",
        "def gradient_descent_with_libs(initial_x, learning_rate, tolerance, max_iterations):\n",
        "    x = initial_x\n",
        "    for iteration in range(max_iterations):\n",
        "        grad = f_prime(x)\n",
        "        new_x = x - learning_rate * grad\n",
        "        if np.abs(new_x - x) < tolerance:\n",
        "            break\n",
        "        x = new_x\n",
        "    return x, f(x), iteration + 1\n",
        "initial_x = 1.0\n",
        "learning_rate = 0.01\n",
        "tolerance = 1e-6\n",
        "max_iterations = 10000\n",
        "min_x, min_f, iterations = gradient_descent_with_libs(initial_x, learning_rate, tolerance, max_iterations)\n",
        "print(f\"Minimum value of f(x) is approximately {min_f} at x = {min_x} after {iterations} iterations.\")\n"
      ],
      "metadata": {
        "colab": {
          "base_uri": "https://localhost:8080/"
        },
        "id": "NK8AxRXP6FND",
        "outputId": "5af62798-0d6b-4b73-b8a0-e00b4883f3e5"
      },
      "execution_count": 2,
      "outputs": [
        {
          "output_type": "stream",
          "name": "stdout",
          "text": [
            "Minimum value of f(x) is approximately 10.000000000802812 at x = 1.63586104206045e-05 after 166 iterations.\n"
          ]
        }
      ]
    },
    {
      "cell_type": "markdown",
      "source": [
        "**2.CODE FOR THE SECOND QUESTION WITHOUT LIBRARIES**"
      ],
      "metadata": {
        "id": "T9fNdY4v6bYF"
      }
    },
    {
      "cell_type": "code",
      "source": [
        "def g(x, y):\n",
        "    return 3 * x**2 + 5 * (2.71828**(-y)) + 10\n",
        "def g_prime_x(x, y):\n",
        "    return 6 * x\n",
        "def g_prime_y(x, y):\n",
        "    return -5 * (2.71828**(-y))\n",
        "def gradient_descent_without_libs(initial_x, initial_y, learning_rate, tolerance, max_iterations):\n",
        "    x, y = initial_x, initial_y\n",
        "    iteration = 0\n",
        "    while iteration < max_iterations:\n",
        "        grad_x = g_prime_x(x, y)\n",
        "        grad_y = g_prime_y(x, y)\n",
        "        new_x = x - learning_rate * grad_x\n",
        "        new_y = y - learning_rate * grad_y\n",
        "        if abs(new_x - x) < tolerance and abs(new_y - y) < tolerance:\n",
        "            break\n",
        "        x, y = new_x, new_y\n",
        "        iteration += 1\n",
        "    return x, y, g(x, y), iteration\n",
        "initial_x = 1.0\n",
        "initial_y = 1.0\n",
        "learning_rate = 0.01\n",
        "tolerance = 1e-6\n",
        "max_iterations = 10000\n",
        "min_x, min_y, min_g, iterations = gradient_descent_without_libs(initial_x, initial_y, learning_rate, tolerance, max_iterations)\n",
        "print(f\"Minimum value of g(x, y) is approximately {min_g} at x = {min_x}, y = {min_y} after {iterations} iterations.\")\n"
      ],
      "metadata": {
        "colab": {
          "base_uri": "https://localhost:8080/"
        },
        "id": "DIFYhwFL6a_o",
        "outputId": "60bfe61b-d06a-42a0-e2fe-070537ed386f"
      },
      "execution_count": 3,
      "outputs": [
        {
          "output_type": "stream",
          "name": "stdout",
          "text": [
            "Minimum value of g(x, y) is approximately 10.009943350656059 at x = 1.8990482403275175e-269, y = 6.220293323511809 after 10000 iterations.\n"
          ]
        }
      ]
    },
    {
      "cell_type": "markdown",
      "source": [
        "**2.CODE FOR THE SECOND QUESTION WITH LIBRARIES**"
      ],
      "metadata": {
        "id": "ZohiZqGT6lff"
      }
    },
    {
      "cell_type": "code",
      "source": [
        "import numpy as np\n",
        "def g(x, y):\n",
        "    return 3 * x**2 + 5 * np.exp(-y) + 10\n",
        "def g_prime_x(x, y):\n",
        "    return 6 * x\n",
        "def g_prime_y(x, y):\n",
        "    return -5 * np.exp(-y)\n",
        "def gradient_descent_with_libs(initial_x, initial_y, learning_rate, tolerance, max_iterations):\n",
        "    x, y = initial_x, initial_y\n",
        "    for iteration in range(max_iterations):\n",
        "        grad_x = g_prime_x(x, y)\n",
        "        grad_y = g_prime_y(x, y)\n",
        "        new_x = x - learning_rate * grad_x\n",
        "        new_y = y - learning_rate * grad_y\n",
        "        if np.abs(new_x - x) < tolerance and np.abs(new_y - y) < tolerance:\n",
        "            break\n",
        "        x, y = new_x, new_y\n",
        "    return x, y, g(x, y), iteration + 1\n",
        "initial_x = 1.0\n",
        "initial_y = 1.0\n",
        "learning_rate = 0.01\n",
        "tolerance = 1e-6\n",
        "max_iterations = 10000\n",
        "min_x, min_y, min_g, iterations = gradient_descent_with_libs(initial_x, initial_y, learning_rate, tolerance, max_iterations)\n",
        "print(f\"Minimum value of g(x, y) is approximately {min_g} at x = {min_x}, y = {min_y} after {iterations} iterations.\")"
      ],
      "metadata": {
        "colab": {
          "base_uri": "https://localhost:8080/"
        },
        "id": "IBOpM5UD6sqM",
        "outputId": "b6cc1147-918f-4f5f-b4bf-262a71d6dcbd"
      },
      "execution_count": 4,
      "outputs": [
        {
          "output_type": "stream",
          "name": "stdout",
          "text": [
            "Minimum value of g(x, y) is approximately 10.009943343967636 at x = 1.8990482403275175e-269, y = 6.220289812067548 after 10000 iterations.\n"
          ]
        }
      ]
    },
    {
      "cell_type": "markdown",
      "source": [
        "**3.CODE FOR THE THIRD QUESTION WITHOUT LIBRARIES**"
      ],
      "metadata": {
        "id": "YcBf3CO_6xul"
      }
    },
    {
      "cell_type": "code",
      "source": [
        "def z(x):\n",
        "    return 1 / (1 + 2.71828**(-x))\n",
        "def z_prime(x):\n",
        "    sigmoid = z(x)\n",
        "    return sigmoid * (1 - sigmoid)\n",
        "def gradient_descent_without_libs(initial_x, learning_rate, tolerance, max_iterations):\n",
        "    x = initial_x\n",
        "    iteration = 0\n",
        "    while iteration < max_iterations:\n",
        "        grad = z_prime(x)\n",
        "        new_x = x - learning_rate * grad\n",
        "        if abs(new_x - x) < tolerance:\n",
        "            break\n",
        "        x = new_x\n",
        "        iteration += 1\n",
        "    return x, z_prime(x), iteration\n",
        "initial_x = 1.0\n",
        "learning_rate = 0.1\n",
        "tolerance = 1e-6\n",
        "max_iterations = 10000\n",
        "min_x, min_z_prime, iterations = gradient_descent_without_libs(initial_x, learning_rate, tolerance, max_iterations)\n",
        "print(f\"Minimum value of z'(x) is approximately {min_z_prime} at x = {min_x} after {iterations} iterations.\")"
      ],
      "metadata": {
        "colab": {
          "base_uri": "https://localhost:8080/"
        },
        "id": "40rmTU9J63O2",
        "outputId": "58c82cf9-bc2e-4d3e-ebe3-879ab456558d"
      },
      "execution_count": 5,
      "outputs": [
        {
          "output_type": "stream",
          "name": "stdout",
          "text": [
            "Minimum value of z'(x) is approximately 0.00101612091341867 at x = -6.889732215688654 after 10000 iterations.\n"
          ]
        }
      ]
    },
    {
      "cell_type": "markdown",
      "source": [
        "**3.CODE FOR THE THIRD QUESTION WITH LIBRARIES**\n",
        "\n"
      ],
      "metadata": {
        "id": "6wKYXwVL7RgH"
      }
    },
    {
      "cell_type": "code",
      "source": [
        "import numpy as np\n",
        "def z(x):\n",
        "    return 1 / (1 + np.exp(-x))\n",
        "def z_prime(x):\n",
        "    sigmoid = z(x)\n",
        "    return sigmoid * (1 - sigmoid)\n",
        "def gradient_descent_with_libs(initial_x, learning_rate, tolerance, max_iterations):\n",
        "    x = initial_x\n",
        "    for iteration in range(max_iterations):\n",
        "        grad = z_prime(x)\n",
        "        new_x = x - learning_rate * grad\n",
        "        if np.abs(new_x - x) < tolerance:\n",
        "            break\n",
        "        x = new_x\n",
        "    return x, z_prime(x), iteration + 1\n",
        "initial_x = 1.0\n",
        "learning_rate = 0.1\n",
        "tolerance = 1e-6\n",
        "max_iterations = 10000\n",
        "min_x, min_z_prime, iterations = gradient_descent_with_libs(initial_x, learning_rate, tolerance, max_iterations)\n",
        "print(f\"Minimum value of z'(x) is approximately {min_z_prime} at x = {min_x} after {iterations} iterations.\")\n"
      ],
      "metadata": {
        "colab": {
          "base_uri": "https://localhost:8080/"
        },
        "id": "LHsBznOs7T7K",
        "outputId": "750880a9-031f-4cd2-b8d4-7132b1dbd106"
      },
      "execution_count": 6,
      "outputs": [
        {
          "output_type": "stream",
          "name": "stdout",
          "text": [
            "Minimum value of z'(x) is approximately 0.0010161202236406146 at x = -6.8897282615101805 after 10000 iterations.\n"
          ]
        }
      ]
    },
    {
      "cell_type": "markdown",
      "source": [
        "**4.CODE FOR THE FOURTH QUESTION WITHOUT LIBRARIES**"
      ],
      "metadata": {
        "id": "MAyaMWmG7Wwy"
      }
    },
    {
      "cell_type": "code",
      "source": [
        "def square_error(M, C, Input, ExpectedOutput):\n",
        "    PredictedOutput = M * Input + C\n",
        "    return (ExpectedOutput - PredictedOutput) ** 2\n",
        "def gradient_M(M, C, Input, ExpectedOutput):\n",
        "    PredictedOutput = M * Input + C\n",
        "    return -2 * Input * (ExpectedOutput - PredictedOutput)\n",
        "def gradient_C(M, C, Input, ExpectedOutput):\n",
        "    PredictedOutput = M * Input + C\n",
        "    return -2 * (ExpectedOutput - PredictedOutput)\n",
        "def gradient_descent_without_libs(Input, ExpectedOutput, learning_rate, tolerance, max_iterations):\n",
        "    M, C = 0.0, 0.0\n",
        "    iteration = 0\n",
        "    while iteration < max_iterations:\n",
        "        grad_M = gradient_M(M, C, Input, ExpectedOutput)\n",
        "        grad_C = gradient_C(M, C, Input, ExpectedOutput)\n",
        "        new_M = M - learning_rate * grad_M\n",
        "        new_C = C - learning_rate * grad_C\n",
        "        if abs(new_M - M) < tolerance and abs(new_C - C) < tolerance:\n",
        "            break\n",
        "        M, C = new_M, new_C\n",
        "        iteration += 1\n",
        "    return M, C, square_error(M, C, Input, ExpectedOutput), iteration\n",
        "Input = 2.0\n",
        "ExpectedOutput = 0.5\n",
        "learning_rate = 0.01\n",
        "tolerance = 1e-6\n",
        "max_iterations = 10000\n",
        "optimal_M, optimal_C, final_error, iterations = gradient_descent_without_libs(Input, ExpectedOutput, learning_rate, tolerance, max_iterations)\n",
        "print(f\"Optimal M: {optimal_M}, Optimal C: {optimal_C}\")\n",
        "print(f\"Final Square Error: {final_error} after {iterations} iterations.\")\n"
      ],
      "metadata": {
        "colab": {
          "base_uri": "https://localhost:8080/"
        },
        "id": "LYFn7j5X7d5Y",
        "outputId": "907f72b8-66ba-482d-b1ba-2f760b1e721f"
      },
      "execution_count": 7,
      "outputs": [
        {
          "output_type": "stream",
          "name": "stdout",
          "text": [
            "Optimal M: 0.1999900040083894, Optimal C: 0.0999950020041947\n",
            "Final Square Error: 6.244990517449996e-10 after 94 iterations.\n"
          ]
        }
      ]
    },
    {
      "cell_type": "markdown",
      "source": [
        "**4.CODE FOR THE FOURTH QUESTION WITH LIBRARIES**"
      ],
      "metadata": {
        "id": "ScZ4ocKM729I"
      }
    },
    {
      "cell_type": "code",
      "source": [
        "import numpy as np\n",
        "def square_error(M, C, Input, ExpectedOutput):\n",
        "    PredictedOutput = M * Input + C\n",
        "    return (ExpectedOutput - PredictedOutput) ** 2\n",
        "def gradient_M(M, C, Input, ExpectedOutput):\n",
        "    PredictedOutput = M * Input + C\n",
        "    return -2 * Input * (ExpectedOutput - PredictedOutput)\n",
        "def gradient_C(M, C, Input, ExpectedOutput):\n",
        "    PredictedOutput = M * Input + C\n",
        "    return -2 * (ExpectedOutput - PredictedOutput)\n",
        "def gradient_descent_with_libs(Input, ExpectedOutput, learning_rate, tolerance, max_iterations):\n",
        "    M, C = 0.0, 0.0\n",
        "    for iteration in range(max_iterations):\n",
        "        grad_M = gradient_M(M, C, Input, ExpectedOutput)\n",
        "        grad_C = gradient_C(M, C, Input, ExpectedOutput)\n",
        "        new_M = M - learning_rate * grad_M\n",
        "        new_C = C - learning_rate * grad_C\n",
        "        if np.abs(new_M - M) < tolerance and np.abs(new_C - C) < tolerance:\n",
        "            break\n",
        "        M, C = new_M, new_C\n",
        "    return M, C, square_error(M, C, Input, ExpectedOutput), iteration + 1\n",
        "Input = 2.0\n",
        "ExpectedOutput = 0.5\n",
        "learning_rate = 0.01\n",
        "tolerance = 1e-6\n",
        "max_iterations = 10000\n",
        "optimal_M, optimal_C, final_error, iterations = gradient_descent_with_libs(Input, ExpectedOutput, learning_rate, tolerance, max_iterations)\n",
        "print(f\"Optimal M: {optimal_M}, Optimal C: {optimal_C}\")\n",
        "print(f\"Final Square Error: {final_error} after {iterations} iterations.\")\n"
      ],
      "metadata": {
        "colab": {
          "base_uri": "https://localhost:8080/"
        },
        "id": "3L6aEI3u75_8",
        "outputId": "f1b6f8bd-bbf8-4a77-8b03-bc27c974db87"
      },
      "execution_count": 8,
      "outputs": [
        {
          "output_type": "stream",
          "name": "stdout",
          "text": [
            "Optimal M: 0.1999900040083894, Optimal C: 0.0999950020041947\n",
            "Final Square Error: 6.244990517449996e-10 after 95 iterations.\n"
          ]
        }
      ]
    }
  ]
}