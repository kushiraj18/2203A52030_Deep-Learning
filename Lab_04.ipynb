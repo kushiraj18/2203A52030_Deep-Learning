{
  "nbformat": 4,
  "nbformat_minor": 0,
  "metadata": {
    "colab": {
      "provenance": [],
      "authorship_tag": "ABX9TyMhWBlkNch8uBCDCr8QSO5v",
      "include_colab_link": true
    },
    "kernelspec": {
      "name": "python3",
      "display_name": "Python 3"
    },
    "language_info": {
      "name": "python"
    }
  },
  "cells": [
    {
      "cell_type": "markdown",
      "metadata": {
        "id": "view-in-github",
        "colab_type": "text"
      },
      "source": [
        "<a href=\"https://colab.research.google.com/github/kushiraj18/2203A52030_Deep-Learning/blob/main/Lab_04.ipynb\" target=\"_parent\"><img src=\"https://colab.research.google.com/assets/colab-badge.svg\" alt=\"Open In Colab\"/></a>"
      ]
    },
    {
      "cell_type": "code",
      "source": [
        "import numpy as np\n",
        "\n",
        "X_train = np.array([[0.1, 0.2, 0.3], [0.2, 0.3, 0.4], [0.3, 0.4, 0.5], [0.5, 0.6, 0.7],\n",
        "                    [0.1, 0.3, 0.5], [0.2, 0.4, 0.6], [0.3, 0.5, 0.7], [0.4, 0.6, 0.8], [0.5, 0.7, 0.1]])\n",
        "y_train = np.array([0.14, 0.2, 0.26, 0.38, 0.22, 0.28, 0.34, 0.4, 0.22])\n",
        "\n",
        "weights = np.random.randn(3)\n",
        "bias = np.random.randn()\n",
        "\n",
        "learning_rate = 0.01\n",
        "epochs = 100\n",
        "\n",
        "def compute_mse(y_true, y_pred):\n",
        "    return np.mean((y_true - y_pred) ** 2)\n",
        "\n",
        "for epoch in range(epochs):\n",
        "    y_pred = np.zeros(len(y_train))\n",
        "    for i in range(len(X_train)):\n",
        "        y_pred[i] = np.dot(X_train[i], weights) + bias\n",
        "\n",
        "    loss = compute_mse(y_train, y_pred)\n",
        "    d_loss = 2 * (y_pred - y_train) / len(y_train)\n",
        "    d_weights = np.zeros(3)\n",
        "    d_bias = 0\n",
        "\n",
        "    for i in range(len(X_train)):\n",
        "        d_weights += X_train[i] * d_loss[i]\n",
        "        d_bias += d_loss[i]\n",
        "\n",
        "    weights -= learning_rate * d_weights\n",
        "    bias -= learning_rate * d_bias\n",
        "\n",
        "    if epoch % 100 == 0:\n",
        "        print(f\"Epoch {epoch}, Loss: {loss:.4f}\")\n",
        "\n",
        "y_train_pred = np.array([np.dot(X_train[i], weights) + bias for i in range(len(X_train))])\n",
        "train_mse = compute_mse(y_train, y_train_pred)\n",
        "print(f\"Final Training MSE: {train_mse:.4f}\")"
      ],
      "metadata": {
        "colab": {
          "base_uri": "https://localhost:8080/"
        },
        "id": "y03-CCaQWnV1",
        "outputId": "f9ab0f47-7f84-402e-c957-e8ffad4209b9"
      },
      "execution_count": 13,
      "outputs": [
        {
          "output_type": "stream",
          "name": "stdout",
          "text": [
            "Epoch 0, Loss: 6.5436\n",
            "Final Training MSE: 0.0897\n"
          ]
        }
      ]
    },
    {
      "cell_type": "code",
      "source": [
        "import numpy as np\n",
        "\n",
        "X_train = np.array([[0.1, 0.2, 0.3], [0.2, 0.3, 0.4], [0.3, 0.4, 0.5], [0.5, 0.6, 0.7],\n",
        "                    [0.1, 0.3, 0.5], [0.2, 0.4, 0.6], [0.3, 0.5, 0.7], [0.4, 0.6, 0.8], [0.5, 0.7, 0.1]])\n",
        "y_train = np.array([0.14, 0.2, 0.26, 0.38, 0.22, 0.28, 0.34, 0.4, 0.22])\n",
        "\n",
        "weights = np.random.randn(3)\n",
        "bias = np.random.randn()\n",
        "\n",
        "# weights=0.1,0.2,0.4\n",
        "# bias=0.1\n",
        "\n",
        "learning_rate = 0.01\n",
        "epochs = 100\n",
        "\n",
        "def compute_mse(y_true, y_pred):\n",
        "    return np.mean((y_true - y_pred) ** 2)\n",
        "\n",
        "# Stochastic Gradient Descent\n",
        "for epoch in range(epochs):\n",
        "\n",
        "    indices = np.random.permutation(len(X_train))\n",
        "    X_train_shuffled = X_train[indices]\n",
        "    y_train_shuffled = y_train[indices]\n",
        "\n",
        "    for i in range(len(X_train)):\n",
        "\n",
        "        x_i = X_train_shuffled[i]\n",
        "        y_i = y_train_shuffled[i]\n",
        "\n",
        "        y_pred = np.dot(x_i, weights) + bias\n",
        "\n",
        "        loss = compute_mse(np.array([y_i]), np.array([y_pred]))  # MSE for a single sample\n",
        "\n",
        "\n",
        "        # Compute gradients\n",
        "        d_loss = 2 * (y_pred - y_i)\n",
        "        d_weights = x_i * d_loss\n",
        "        d_bias = d_loss\n",
        "\n",
        "        # Update parameters\n",
        "        weights -= learning_rate * d_weights\n",
        "        bias -= learning_rate * d_bias\n",
        "\n",
        "\n",
        "    if epoch % 10 == 0:\n",
        "        y_train_pred = X_train.dot(weights) + bias\n",
        "        train_mse = compute_mse(y_train, y_train_pred)\n",
        "print(f\"Epoch {epoch}, Loss: {train_mse:.4f}\")\n",
        "print(y_pred)\n",
        "y_train_pred = X_train.dot(weights) + bias\n",
        "train_mse = compute_mse(y_train, y_train_pred)\n",
        "print(f\"Final Training MSE: {train_mse:.4f}\")\n",
        "\n",
        "x1=float(input(\"Enter X1 value:\"))\n",
        "x2=float(input(\"Enter X2 value:\"))\n",
        "x3=float(input(\"Enter X3 value:\"))\n",
        "# b=float(input(\"Enter bias value:\"))\n",
        "y_pred1=x1*weights[0]+x2*weights[1]+x3*weights[2]+bias\n",
        "print(y_pred1)\n",
        "if y_pred==y_pred1:\n",
        "    print(\"Correct\")\n",
        "else:\n",
        "    print(\"Incorrect\")"
      ],
      "metadata": {
        "colab": {
          "base_uri": "https://localhost:8080/"
        },
        "id": "cRtGUC3TXxtV",
        "outputId": "51d6645f-a36b-4968-b43a-f790b5151322"
      },
      "execution_count": 14,
      "outputs": [
        {
          "output_type": "stream",
          "name": "stdout",
          "text": [
            "Epoch 99, Loss: 0.0034\n",
            "0.2535144105295902\n",
            "Final Training MSE: 0.0031\n",
            "Enter X1 value:0.2\n",
            "Enter X2 value:0.3\n",
            "Enter X3 value:0.4\n",
            "0.18586596972953634\n",
            "Incorrect\n"
          ]
        }
      ]
    },
    {
      "cell_type": "code",
      "source": [],
      "metadata": {
        "id": "2fpIyQrIb9Qb"
      },
      "execution_count": null,
      "outputs": []
    }
  ]
}